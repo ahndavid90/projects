{
 "cells": [
  {
   "cell_type": "code",
   "execution_count": 12,
   "metadata": {},
   "outputs": [
    {
     "name": "stdout",
     "output_type": "stream",
     "text": [
      "   B  A    C    D\n",
      "1  3  1  100  300\n",
      "2  4  2  200  400\n",
      "     B    A\n",
      "1    3    1\n",
      "2    4    2\n",
      "1  300  100\n",
      "2  400  200\n"
     ]
    }
   ],
   "source": [
    "import pandas as pd\n",
    "\n",
    "#0.) Create dataframes\n",
    "df1 = pd.DataFrame({'A': [1,2], 'B': [3,4]}, index = [1,2])\n",
    "df2 = pd.DataFrame({'C': [100,200], 'D': [300,400]}, index = [1,2])\n",
    "df3 = pd.DataFrame({'A': [100,200], 'B': [300,400]}, index = [1,2])\n",
    "\n",
    "#1.) Locate data within the dataframe using iloc and loc\n",
    "element1 = df1.iloc[0,0]\n",
    "element2 = df1.iloc[1,1]\n",
    "\n",
    "element3 = df1.loc[1, 'B']\n",
    "\n",
    "#2.) number of rows and columns\n",
    "number_rows = len(df1.index)\n",
    "number_columns = len(df1.columns)\n",
    "\n",
    "#3.) Change the column name and index name\n",
    "#df1.rename(columns = {'A': 'AA', 'B': 'BB'}, inplace = True)\n",
    "#df1.rename(index = {1:100, 2:200}, inplace = True)\n",
    "\n",
    "#4.) Change column order\n",
    "df1 = df1[['B', 'A']]\n",
    "\n",
    "#5.) Combine two dataframes uisng concat\n",
    "dataframes = [df1, df2]\n",
    "df_new = pd.concat(dataframes, axis = 1)\n",
    "df_new2 = pd.concat([df1, df3], axis = 0)\n",
    "\n",
    "print(df_new)\n",
    "print(df_new2)"
   ]
  },
  {
   "cell_type": "code",
   "execution_count": 18,
   "metadata": {},
   "outputs": [
    {
     "name": "stdout",
     "output_type": "stream",
     "text": [
      "             State  Population  COVID19_Cases  COVID19_Deaths  COVID19_Rate\n",
      "31        New York    19453561         142384            5489      0.007319\n",
      "29      New Jersey     8882190          44416            1232      0.005001\n",
      "17       Louisiana     4648794          16284             582      0.003503\n",
      "20   Massachusetts     6892503          15202             356      0.002206\n",
      "6      Connecticut     3565287           7781             277      0.002182\n",
      "21        Michigan     9986857          18970             845      0.001899\n",
      "37    Pennsylvania    12801989          14945             250      0.001167\n",
      "38    Rhode Island     1059361           1229              30      0.001160\n",
      "46      Washington     7614893           8682             403      0.001140\n",
      "12        Illinois    12671821          13549             380      0.001069\n",
      "7         Delaware      973764            928              16      0.000953\n",
      "5         Colorado     5758736           5429             179      0.000943\n",
      "44         Vermont      623989            575              23      0.000921\n",
      "9          Georgia    10617423           9156             348      0.000862\n",
      "13         Indiana     6732219           5507             173      0.000818\n",
      "19        Maryland     6045680           4371             103      0.000723\n",
      "8          Florida    21477737          14747             296      0.000687\n",
      "27          Nevada     3080156           2087              58      0.000678\n",
      "11           Idaho     1787065           1210              15      0.000677\n",
      "23     Mississippi     2976149           1915              59      0.000643\n",
      "41       Tennessee     6829174           4138              72      0.000606\n",
      "28   New Hampshire     1359711            747              13      0.000549\n",
      "43            Utah     3205958           1738              13      0.000542\n",
      "24        Missouri     6137428           3037              70      0.000495\n",
      "39  South Carolina     5148714           2417              51      0.000469\n",
      "0          Alabama     4903185           2197              64      0.000448\n",
      "4       California    39512223          17620             450      0.000446\n",
      "48       Wisconsin     5822434           2578              92      0.000443\n",
      "34            Ohio    11689100           4782             167      0.000409\n",
      "45        Virginia     8535519           3333              63      0.000390\n",
      "18           Maine     1344212            519              12      0.000386\n",
      "49         Wyoming      578759            221               0      0.000382\n",
      "30      New Mexico     2096829            794              13      0.000379\n",
      "35        Oklahoma     3956971           1472              67      0.000372\n",
      "40    South Dakota      884659            320               6      0.000362\n",
      "2          Arizona     7278717           2575              73      0.000354\n",
      "14            Iowa     3155070           1049              26      0.000332\n",
      "3         Arkansas     3017804            997              18      0.000330\n",
      "32  North Carolina    10488084           3321              54      0.000317\n",
      "15          Kansas     2913314            912              31      0.000313\n",
      "33    North Dakota      762062            237               4      0.000311\n",
      "42           Texas    28995881           8939             167      0.000308\n",
      "25         Montana     1068778            319               6      0.000298\n",
      "1           Alaska      731545            213               6      0.000291\n",
      "10          Hawaii     1415872            410               5      0.000290\n",
      "36          Oregon     4217737           1181              33      0.000280\n",
      "16        Kentucky     4467673           1149              65      0.000257\n",
      "26        Nebraska     1934408            478              10      0.000247\n",
      "47   West Virginia     1792147            412               4      0.000230\n",
      "22       Minnesota     5639632           1069              34      0.000190\n"
     ]
    }
   ],
   "source": [
    "import pandas as pd\n",
    "import os\n",
    "\n",
    "file1 = os.path.join(os.getcwd(),'US 2019 Population by States.xlsx')\n",
    "file2 = os.path.join(os.getcwd(), 'COVID19_Stats.xlsx')\n",
    "\n",
    "df1 = pd.read_excel(file1)\n",
    "df2 = pd.read_excel(file2)\n",
    "\n",
    "#Vlookup based on State\n",
    "df_new = pd.merge(df1, df2, on = 'State')\n",
    "\n",
    "#Create a new column named COVID19_Rate\n",
    "df_new['COVID19_Rate'] = df_new['COVID19_Cases'] / df_new['Population']\n",
    "\n",
    "#Sort based on a column field (COVID19_Rate)\n",
    "df_new.sort_values(by = 'COVID19_Rate', ascending = False, inplace = True)\n",
    "\n",
    "#Save the file to an excel file\n",
    "df_new.to_excel('Output.xlsx', sheet_name = 'Summary')\n",
    "\n",
    "print(df_new)"
   ]
  },
  {
   "cell_type": "code",
   "execution_count": null,
   "metadata": {},
   "outputs": [],
   "source": []
  }
 ],
 "metadata": {
  "kernelspec": {
   "display_name": "Python 3",
   "language": "python",
   "name": "python3"
  },
  "language_info": {
   "codemirror_mode": {
    "name": "ipython",
    "version": 3
   },
   "file_extension": ".py",
   "mimetype": "text/x-python",
   "name": "python",
   "nbconvert_exporter": "python",
   "pygments_lexer": "ipython3",
   "version": "3.8.2"
  }
 },
 "nbformat": 4,
 "nbformat_minor": 4
}
